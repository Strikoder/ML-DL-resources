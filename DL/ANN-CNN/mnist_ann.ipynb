{
  "cells": [
    {
      "cell_type": "markdown",
      "metadata": {
        "colab_type": "text",
        "id": "view-in-github"
      },
      "source": [
        "<a href=\"https://colab.research.google.com/github/adityap27/mnist-ann/blob/master/mnist_ann.ipynb\" target=\"_parent\"><img src=\"https://colab.research.google.com/assets/colab-badge.svg\" alt=\"Open In Colab\"/></a>"
      ]
    },
    {
      "cell_type": "markdown",
      "metadata": {
        "colab_type": "text",
        "id": "L6V8O6Fjx0iy"
      },
      "source": [
        "# **1.) Data Preprocessing**"
      ]
    },
    {
      "cell_type": "code",
      "execution_count": 15,
      "metadata": {},
      "outputs": [],
      "source": [
        "(X_train,y_train),(X_test,y_test) = mnist.load_data()"
      ]
    },
    {
      "cell_type": "code",
      "execution_count": 19,
      "metadata": {},
      "outputs": [
        {
          "data": {
            "text/plain": [
              "(60000,)"
            ]
          },
          "execution_count": 19,
          "metadata": {},
          "output_type": "execute_result"
        }
      ],
      "source": [
        "X_train.shape\n",
        "y_train.shape"
      ]
    },
    {
      "cell_type": "code",
      "execution_count": 1,
      "metadata": {
        "colab": {
          "base_uri": "https://localhost:8080/",
          "height": 34
        },
        "colab_type": "code",
        "id": "gO1pNdcBEDuQ",
        "outputId": "0a901043-a54d-4120-b8d7-7063b29bbbfe"
      },
      "outputs": [
        {
          "name": "stdout",
          "output_type": "stream",
          "text": [
            "WARNING:tensorflow:From C:\\Users\\ameen\\AppData\\Roaming\\Python\\Python311\\site-packages\\keras\\src\\losses.py:2976: The name tf.losses.sparse_softmax_cross_entropy is deprecated. Please use tf.compat.v1.losses.sparse_softmax_cross_entropy instead.\n",
            "\n"
          ]
        },
        {
          "name": "stderr",
          "output_type": "stream",
          "text": [
            "d:\\Anaconda\\Lib\\site-packages\\sklearn\\preprocessing\\_encoders.py:972: FutureWarning: `sparse` was renamed to `sparse_output` in version 1.2 and will be removed in 1.4. `sparse_output` is ignored unless you leave `sparse` to its default value.\n",
            "  warnings.warn(\n"
          ]
        }
      ],
      "source": [
        "# Data Preprocessing\n",
        "from keras.datasets import mnist\n",
        " \n",
        "# Importing the dataset\n",
        "(X_train,y_train),(X_test,y_test) = mnist.load_data()\n",
        "\n",
        "#flatten the images\n",
        "X_train=X_train.reshape((X_train.shape[0],784))\n",
        "X_test=X_test.reshape((X_test.shape[0],784))\n",
        "y_train=y_train.reshape((y_train.shape[0],1)) #fixing shape\n",
        "y_test=y_test.reshape((y_test.shape[0],1)) #fixing shape\n",
        "\n",
        "#Encoding of categorical data to one-hot format\n",
        "from sklearn.preprocessing import OneHotEncoder\n",
        "onehotencoder=OneHotEncoder(sparse=False)\n",
        "y_train=onehotencoder.fit_transform(y_train)\n",
        "y_test=onehotencoder.transform(y_test)\n",
        "\n",
        "# Splitting the Training into the Training set and Validation set\n",
        "from sklearn.model_selection import train_test_split\n",
        "X_train, X_val, y_train, y_val = train_test_split(X_train, y_train, test_size = 0.175, random_state = 0)\n",
        "\n",
        "#Feature Scaling\n",
        "X_train = X_train / 255\n",
        "X_val = X_val / 255\n",
        "X_test = X_test / 255"
      ]
    },
    {
      "cell_type": "code",
      "execution_count": 14,
      "metadata": {},
      "outputs": [
        {
          "data": {
            "text/plain": [
              "array([[0., 0., 0., ..., 0., 0., 0.],\n",
              "       [0., 1., 0., ..., 0., 0., 0.],\n",
              "       [0., 0., 0., ..., 1., 0., 0.],\n",
              "       ...,\n",
              "       [0., 0., 0., ..., 1., 0., 0.],\n",
              "       [0., 1., 0., ..., 0., 0., 0.],\n",
              "       [0., 0., 0., ..., 0., 0., 0.]])"
            ]
          },
          "execution_count": 14,
          "metadata": {},
          "output_type": "execute_result"
        }
      ],
      "source": [
        "y_train"
      ]
    },
    {
      "cell_type": "markdown",
      "metadata": {
        "colab_type": "text",
        "id": "19mLQmFJx0jI"
      },
      "source": [
        "# **2.) Build and Train ANN**"
      ]
    },
    {
      "cell_type": "code",
      "execution_count": 2,
      "metadata": {
        "colab": {},
        "colab_type": "code",
        "id": "2U50Rkvfx0jK"
      },
      "outputs": [],
      "source": [
        "#ANN\n",
        "\n",
        "#import libraries\n",
        "import keras\n",
        "from keras.models import Sequential\n",
        "from keras.layers import Dense,Activation,Dropout,BatchNormalization"
      ]
    },
    {
      "cell_type": "code",
      "execution_count": 3,
      "metadata": {
        "colab": {},
        "colab_type": "code",
        "id": "3BGOrlSwx0jS"
      },
      "outputs": [
        {
          "name": "stdout",
          "output_type": "stream",
          "text": [
            "WARNING:tensorflow:From C:\\Users\\ameen\\AppData\\Roaming\\Python\\Python311\\site-packages\\keras\\src\\backend.py:873: The name tf.get_default_graph is deprecated. Please use tf.compat.v1.get_default_graph instead.\n",
            "\n"
          ]
        }
      ],
      "source": [
        "#Build ANN model\n",
        "model=Sequential()\n",
        "model.add(Dense(256,kernel_initializer='he_normal',input_shape=(784,)))\n",
        "model.add(Activation('relu'))\n",
        "model.add(Dropout(0.4))\n",
        "\n",
        "model.add(Dense(256,kernel_initializer='he_normal'))\n",
        "model.add(Activation('relu'))\n",
        "model.add(Dropout(0.4))\n",
        "\n",
        "model.add(Dense(10,activation='softmax',kernel_initializer='glorot_normal'))\n",
        "\n",
        "#Compiling model\n",
        "model.compile(optimizer=keras.optimizers.Adam(learning_rate=0.001),loss='categorical_crossentropy',metrics=['accuracy'])\n"
      ]
    },
    {
      "cell_type": "code",
      "execution_count": 7,
      "metadata": {
        "colab": {
          "base_uri": "https://localhost:8080/",
          "height": 1000
        },
        "colab_type": "code",
        "id": "Qw8puyrfx0jb",
        "outputId": "a815d61c-b1b4-464e-a0fd-edb9d32e4645"
      },
      "outputs": [
        {
          "name": "stdout",
          "output_type": "stream",
          "text": [
            "Epoch 1/10\n",
            "97/97 [==============================] - 1s 10ms/step - loss: 0.0261 - accuracy: 0.9912 - val_loss: 0.0684 - val_accuracy: 0.9835\n",
            "Epoch 2/10\n",
            "97/97 [==============================] - 1s 8ms/step - loss: 0.0290 - accuracy: 0.9903 - val_loss: 0.0625 - val_accuracy: 0.9838\n",
            "Epoch 3/10\n",
            "97/97 [==============================] - 1s 9ms/step - loss: 0.0251 - accuracy: 0.9912 - val_loss: 0.0675 - val_accuracy: 0.9831\n",
            "Epoch 4/10\n",
            "97/97 [==============================] - 1s 8ms/step - loss: 0.0282 - accuracy: 0.9909 - val_loss: 0.0682 - val_accuracy: 0.9831\n",
            "Epoch 5/10\n",
            "97/97 [==============================] - 1s 9ms/step - loss: 0.0236 - accuracy: 0.9922 - val_loss: 0.0730 - val_accuracy: 0.9825\n",
            "Epoch 6/10\n",
            "97/97 [==============================] - 1s 10ms/step - loss: 0.0246 - accuracy: 0.9919 - val_loss: 0.0681 - val_accuracy: 0.9840\n",
            "Epoch 7/10\n",
            "97/97 [==============================] - 1s 9ms/step - loss: 0.0261 - accuracy: 0.9910 - val_loss: 0.0721 - val_accuracy: 0.9820\n",
            "Epoch 8/10\n",
            "97/97 [==============================] - 1s 8ms/step - loss: 0.0248 - accuracy: 0.9914 - val_loss: 0.0675 - val_accuracy: 0.9836\n",
            "Epoch 9/10\n",
            "97/97 [==============================] - 1s 9ms/step - loss: 0.0247 - accuracy: 0.9915 - val_loss: 0.0753 - val_accuracy: 0.9821\n",
            "Epoch 10/10\n",
            "97/97 [==============================] - 1s 8ms/step - loss: 0.0228 - accuracy: 0.9922 - val_loss: 0.0710 - val_accuracy: 0.9828\n"
          ]
        }
      ],
      "source": [
        "#Training model\n",
        "history=model.fit(X_train,y_train,epochs=10,batch_size=512,validation_data=(X_val,y_val),verbose=1,use_multiprocessing=True)"
      ]
    },
    {
      "cell_type": "code",
      "execution_count": 6,
      "metadata": {
        "colab": {
          "base_uri": "https://localhost:8080/",
          "height": 513
        },
        "colab_type": "code",
        "id": "yJfoz_Ggx0jm",
        "outputId": "a4fcad74-e154-4e78-80a8-677b65d01662"
      },
      "outputs": [
        {
          "data": {
            "image/png": "[encoded data removed]",
            "text/plain": [
              "<Figure size 640x480 with 1 Axes>"
            ]
          },
          "metadata": {},
          "output_type": "display_data"
        },
        {
          "data": {
            "image/png": "[encoded data removed]",
            "text/plain": [
              "<Figure size 640x480 with 1 Axes>"
            ]
          },
          "metadata": {},
          "output_type": "display_data"
        }
      ],
      "source": [
        "import matplotlib.pyplot as plt\n",
        "plt.plot(history.history['loss'],label='loss')\n",
        "plt.plot(history.history['val_loss'],label='val_loss')\n",
        "plt.legend()\n",
        "plt.show()\n",
        "plt.plot(history.history['accuracy'],label='acc')\n",
        "plt.plot(history.history['val_accuracy'],label='val_acc')\n",
        "plt.legend()\n",
        "plt.show()"
      ]
    },
    {
      "cell_type": "code",
      "execution_count": null,
      "metadata": {
        "colab": {
          "base_uri": "https://localhost:8080/",
          "height": 50
        },
        "colab_type": "code",
        "id": "siBREa2cx0jt",
        "outputId": "770585b3-95e0-4440-fa33-8fd5e140538c"
      },
      "outputs": [
        {
          "name": "stdout",
          "output_type": "stream",
          "text": [
            "49500/49500 [==============================] - 4s 86us/step\n",
            "[0.00023556755931090402, 1.0]\n"
          ]
        }
      ],
      "source": [
        "train=model.evaluate(X_train,y_train)\n",
        "print(train)"
      ]
    },
    {
      "cell_type": "code",
      "execution_count": null,
      "metadata": {
        "colab": {
          "base_uri": "https://localhost:8080/",
          "height": 50
        },
        "colab_type": "code",
        "id": "-jQ_foY3x0j4",
        "outputId": "93f9c15c-6981-4c6d-8506-17ad0277de24"
      },
      "outputs": [
        {
          "name": "stdout",
          "output_type": "stream",
          "text": [
            "10500/10500 [==============================] - 1s 87us/step\n",
            "[0.07706455891983031, 0.9842857122421265]\n"
          ]
        }
      ],
      "source": [
        "val=model.evaluate(X_val,y_val)\n",
        "print(val)"
      ]
    },
    {
      "cell_type": "code",
      "execution_count": null,
      "metadata": {
        "colab": {
          "base_uri": "https://localhost:8080/",
          "height": 50
        },
        "colab_type": "code",
        "id": "wFenXVAwx0j_",
        "outputId": "3f1ec172-c104-4205-b4d8-03c70915b74c"
      },
      "outputs": [
        {
          "name": "stdout",
          "output_type": "stream",
          "text": [
            "0.0\n",
            "1.5714287757873535\n"
          ]
        }
      ],
      "source": [
        "print(100*(1-train[1]))\n",
        "print(100*(train[1]-val[1]))#After tuning.....the measure of \"variance\" wasn't reducing after...~~ 1.5%"
      ]
    },
    {
      "cell_type": "code",
      "execution_count": null,
      "metadata": {
        "colab": {},
        "colab_type": "code",
        "id": "vl5psiwSFyto"
      },
      "outputs": [],
      "source": [
        "model.save('mnist-ann.model')"
      ]
    },
    {
      "cell_type": "markdown",
      "metadata": {
        "colab_type": "text",
        "id": "lipRGzik7RHo"
      },
      "source": [
        "# **3.) Evaluation on Test set**"
      ]
    },
    {
      "cell_type": "code",
      "execution_count": null,
      "metadata": {
        "colab": {
          "base_uri": "https://localhost:8080/",
          "height": 50
        },
        "colab_type": "code",
        "id": "mNrR8V31zWKS",
        "outputId": "01c03d3b-a1ef-479b-a003-ea1645600bcf"
      },
      "outputs": [
        {
          "name": "stdout",
          "output_type": "stream",
          "text": [
            "10000/10000 [==============================] - 1s 85us/step\n"
          ]
        },
        {
          "data": {
            "text/plain": [
              "[0.08582737032464338, 0.9842000007629395]"
            ]
          },
          "execution_count": 10,
          "metadata": {
            "tags": []
          },
          "output_type": "execute_result"
        }
      ],
      "source": [
        "model.evaluate(X_test,y_test)"
      ]
    }
  ],
  "metadata": {
    "accelerator": "GPU",
    "colab": {
      "collapsed_sections": [],
      "include_colab_link": true,
      "name": "mnist-ann.ipynb",
      "provenance": []
    },
    "kernelspec": {
      "display_name": "Python 3",
      "name": "python3"
    },
    "language_info": {
      "codemirror_mode": {
        "name": "ipython",
        "version": 3
      },
      "file_extension": ".py",
      "mimetype": "text/x-python",
      "name": "python",
      "nbconvert_exporter": "python",
      "pygments_lexer": "ipython3",
      "version": "3.11.5"
    },
    "orig_nbformat": 2
  },
  "nbformat": 4,
  "nbformat_minor": 0
}
